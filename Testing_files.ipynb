{
  "nbformat": 4,
  "nbformat_minor": 0,
  "metadata": {
    "colab": {
      "name": "Testing files",
      "provenance": [],
      "authorship_tag": "ABX9TyMymrSBq/P5VYeerX0cSO7S",
      "include_colab_link": true
    },
    "kernelspec": {
      "name": "python3",
      "display_name": "Python 3"
    },
    "language_info": {
      "name": "python"
    }
  },
  "cells": [
    {
      "cell_type": "markdown",
      "metadata": {
        "id": "view-in-github",
        "colab_type": "text"
      },
      "source": [
        "<a href=\"https://colab.research.google.com/github/Jonesd504/MyPracticeCode/blob/main/Testing_files.ipynb\" target=\"_parent\"><img src=\"https://colab.research.google.com/assets/colab-badge.svg\" alt=\"Open In Colab\"/></a>"
      ]
    },
    {
      "cell_type": "code",
      "execution_count": null,
      "metadata": {
        "colab": {
          "base_uri": "https://localhost:8080/"
        },
        "id": "uQwAmXjqKx1P",
        "outputId": "ad123739-c575-4605-f680-20607ddf50f3"
      },
      "outputs": [
        {
          "output_type": "stream",
          "name": "stdout",
          "text": [
            "Overwriting maths.py\n"
          ]
        }
      ],
      "source": [
        "%%file maths.py\n",
        "def times_two(x):\n",
        "  answer = x*2\n",
        "  return answer\n"
      ]
    },
    {
      "cell_type": "code",
      "source": [
        "%%file test_maths.py\n",
        "import maths\n",
        "def test_times_two():\n",
        "  assert maths.times_two(3) == 6\n",
        "  return"
      ],
      "metadata": {
        "colab": {
          "base_uri": "https://localhost:8080/"
        },
        "id": "98euqIGfNiVn",
        "outputId": "ac5a68fa-c08a-411f-c82c-ea80503e9fbb"
      },
      "execution_count": null,
      "outputs": [
        {
          "output_type": "stream",
          "name": "stdout",
          "text": [
            "Overwriting test_maths.py\n"
          ]
        }
      ]
    },
    {
      "cell_type": "code",
      "source": [
        "!python -m pytest test_maths.py"
      ],
      "metadata": {
        "colab": {
          "base_uri": "https://localhost:8080/"
        },
        "id": "JK0Jzxm_P1L5",
        "outputId": "f28171fb-60d9-4cee-99b4-cc9f65c0d4e7"
      },
      "execution_count": null,
      "outputs": [
        {
          "output_type": "stream",
          "name": "stdout",
          "text": [
            "\u001b[1m============================= test session starts ==============================\u001b[0m\n",
            "platform linux -- Python 3.7.12, pytest-3.6.4, py-1.11.0, pluggy-0.7.1\n",
            "rootdir: /content, inifile:\n",
            "plugins: typeguard-2.7.1\n",
            "\u001b[1m\rcollecting 0 items                                                             \u001b[0m\u001b[1m\rcollecting 1 item                                                              \u001b[0m\u001b[1m\rcollected 1 item                                                               \u001b[0m\n",
            "\n",
            "test_maths.py .\u001b[36m                                                          [100%]\u001b[0m\n",
            "\n",
            "\u001b[32m\u001b[1m=========================== 1 passed in 0.02 seconds ===========================\u001b[0m\n"
          ]
        }
      ]
    }
  ]
}