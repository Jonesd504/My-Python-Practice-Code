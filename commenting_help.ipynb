{
  "nbformat": 4,
  "nbformat_minor": 0,
  "metadata": {
    "colab": {
      "name": "commenting-help",
      "provenance": [],
      "authorship_tag": "ABX9TyN90lBV5c+nvj5FCsbcbrfV",
      "include_colab_link": true
    },
    "kernelspec": {
      "name": "python3",
      "display_name": "Python 3"
    },
    "language_info": {
      "name": "python"
    }
  },
  "cells": [
    {
      "cell_type": "markdown",
      "metadata": {
        "id": "view-in-github",
        "colab_type": "text"
      },
      "source": [
        "<a href=\"https://colab.research.google.com/github/Jonesd504/MyPracticeCode/blob/main/commenting_help.ipynb\" target=\"_parent\"><img src=\"https://colab.research.google.com/assets/colab-badge.svg\" alt=\"Open In Colab\"/></a>"
      ]
    },
    {
      "cell_type": "code",
      "execution_count": null,
      "metadata": {
        "colab": {
          "base_uri": "https://localhost:8080/",
          "height": 132
        },
        "id": "nlXigAY8iGY-",
        "outputId": "be53d28a-3886-4c52-f181-1badce4efa90"
      },
      "outputs": [
        {
          "output_type": "error",
          "ename": "IndentationError",
          "evalue": "ignored",
          "traceback": [
            "\u001b[0;36m  File \u001b[0;32m\"<ipython-input-16-cb02c2e584fa>\"\u001b[0;36m, line \u001b[0;32m10\u001b[0m\n\u001b[0;31m    answer = number ** 3\u001b[0m\n\u001b[0m                        ^\u001b[0m\n\u001b[0;31mIndentationError\u001b[0m\u001b[0;31m:\u001b[0m unindent does not match any outer indentation level\n"
          ]
        }
      ],
      "source": [
        "def cube_it(number):\n",
        "  \"\"\"\n",
        "  Summary - A Function to cube a (list_of_numbers)\n",
        "  Description - This code takes one parameter of a list of numbers \n",
        "  Arguments - a list of numbers\n",
        "  Return values - a Python list of cubed numbers\n",
        "  \"\"\"\n",
        "  # Do the calculation\n",
        "  answer = number ** 3\n",
        "  #return the answer\n",
        "  return answer\n",
        "\n",
        "# Capture the user input\n",
        "input_number = int(input('Enter the number you would like to cube: '))\n",
        "\n",
        "# Print the result\n",
        "print(f' {input_number} cubed = {cube_it(input_number)}')"
      ]
    },
    {
      "cell_type": "code",
      "source": [
        "\n",
        "def cube_them(list_of_numbers):\n",
        "  \"\"\"\n",
        "  Summary - A Function to cube a (list_of_numbers)\n",
        "  Description - This code takes one parameter of a list of numbers \n",
        "  Arguments - a list of numbers\n",
        "  Return values - a Python list of cubed numbers\n",
        "  \"\"\"\n",
        "\n",
        "  # Create an empty list\n",
        "  squared_numbers = []\n",
        "\n",
        "  #Loop through the list and insert the cubed answer to the list \n",
        "  for i in range(len(list_of_numbers)):\n",
        "    answer = list_of_numbers[i] ** 3\n",
        "    squared_numbers.insert(-1,answer)\n",
        "    print(f'{list_of_numbers[i]} cubed = {answer}')\n",
        "\n",
        "  # return the list  \n",
        "  return squared_numbers\n",
        "\n",
        "input_number = [1,2,3,4,5,6,7,8,9]\n",
        "\n",
        "print(cube_it(input_number))"
      ],
      "metadata": {
        "colab": {
          "base_uri": "https://localhost:8080/"
        },
        "id": "p81jjvDGkECo",
        "outputId": "5afd0f7e-3985-4b9a-eb48-dd0df068db8c"
      },
      "execution_count": null,
      "outputs": [
        {
          "output_type": "stream",
          "name": "stdout",
          "text": [
            "1 cubed = 1\n",
            "2 cubed = 8\n",
            "3 cubed = 27\n",
            "4 cubed = 64\n",
            "5 cubed = 125\n",
            "6 cubed = 216\n",
            "7 cubed = 343\n",
            "8 cubed = 512\n",
            "9 cubed = 729\n",
            "[8, 27, 64, 125, 216, 343, 512, 729, 1]\n"
          ]
        }
      ]
    },
    {
      "cell_type": "code",
      "source": [
        "help(cube_them)"
      ],
      "metadata": {
        "colab": {
          "base_uri": "https://localhost:8080/"
        },
        "id": "nJ4Lld38oq6i",
        "outputId": "73b307ca-d5c2-4606-f47e-89ba90934f45"
      },
      "execution_count": null,
      "outputs": [
        {
          "output_type": "stream",
          "name": "stdout",
          "text": [
            "Help on function cube_them in module __main__:\n",
            "\n",
            "cube_them(list_of_numbers)\n",
            "    Summary - A Function to cube a (list_of_numbers)\n",
            "    Description - This code takes one parameter of a list of numbers \n",
            "    Arguments - a list of numbers\n",
            "    Return values - a list of cubed numbers\n",
            "\n"
          ]
        }
      ]
    },
    {
      "cell_type": "code",
      "source": [
        "def leap_year(year):\n",
        "  \"\"\"\n",
        "  This is a function that calculates if a given year is a leap year.\n",
        "  \"\"\"\n",
        "  # Is the year divisible by 4?\n",
        "  mostly_4 = year % 4 == 0\n",
        "  print(f'is the year divisible by 4? {mostly_4}')\n",
        "\n",
        "  # Is the year divisible by 100?\n",
        "  except_for_100 = year % 100 == 0\n",
        "  print(f'is the year divisible by 100? {except_for_100} \\\n",
        "  if True, it is not a leap year')\n",
        "  \n",
        "  # Is the year divisible by 400?\n",
        "  unless_400 = year % 400 == 0\n",
        "  print(f'is the year divisible by 400? {unless_400}')\n",
        "\n",
        "  # If the year is divisible by 400 is NOT divisable by 100 \n",
        "  # and IS divisable by 4 it is a leap year, return true.\n",
        "\n",
        "  # RETURN {True} or not {True} and {True}\n",
        "  return unless_400 or not except_for_100 and mostly_4\n",
        "\n",
        "print(leap_year(3))"
      ],
      "metadata": {
        "colab": {
          "base_uri": "https://localhost:8080/"
        },
        "id": "9DS64gB1zqlL",
        "outputId": "d23bc372-fb98-4176-eeee-e5998fa07fbe"
      },
      "execution_count": null,
      "outputs": [
        {
          "output_type": "stream",
          "name": "stdout",
          "text": [
            "is the year divisible by 4? False\n",
            "is the year divisible by 100? False   if True, it is not a leap year\n",
            "is the year divisible by 400? False\n",
            "False\n"
          ]
        }
      ]
    }
  ]
}