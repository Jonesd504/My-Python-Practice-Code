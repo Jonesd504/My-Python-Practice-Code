{
  "nbformat": 4,
  "nbformat_minor": 0,
  "metadata": {
    "colab": {
      "name": "concat-for-dict-except-json-class-funct",
      "provenance": [],
      "authorship_tag": "ABX9TyNHVm/c3g0L1vgeKtKo4NoF",
      "include_colab_link": true
    },
    "kernelspec": {
      "name": "python3",
      "display_name": "Python 3"
    },
    "language_info": {
      "name": "python"
    }
  },
  "cells": [
    {
      "cell_type": "markdown",
      "metadata": {
        "id": "view-in-github",
        "colab_type": "text"
      },
      "source": [
        "<a href=\"https://colab.research.google.com/github/Jonesd504/MyPracticeCode/blob/main/concat_for_dict_except_json_class_funct.ipynb\" target=\"_parent\"><img src=\"https://colab.research.google.com/assets/colab-badge.svg\" alt=\"Open In Colab\"/></a>"
      ]
    },
    {
      "cell_type": "code",
      "execution_count": null,
      "metadata": {
        "colab": {
          "base_uri": "https://localhost:8080/"
        },
        "id": "jSJcnF8YbXW6",
        "outputId": "763e7ffa-a4bc-4ce6-db1e-0776ee258972"
      },
      "outputs": [
        {
          "output_type": "stream",
          "name": "stdout",
          "text": [
            "What is your name? Dom\n",
            "What is your name? 34\n",
            "What is your name? Managing Director\n",
            "What is your name? I am a very clever guy!\n",
            "Your name is Dom, your age is 34, your job title is Managing Director, your bio is: I am a very clever guy!\n",
            "[{'name': 'Dom'}, {'age': '34'}, {'job_title': 'Managing Director'}, {'bio': 'I am a very clever guy!'}]\n"
          ]
        }
      ],
      "source": [
        "name = input('What is your name? ')\n",
        "age = input('What is your age? ')\n",
        "job_title = input('What is your job title? ')\n",
        "bio = input('Write a little bit about yourself: ')\n",
        "def details(name,age,job_title,bio):\n",
        "  print(f'Your name is {name}, your age is {age}, your job title is {job_title}, your bio is: {bio}')\n",
        "  info = [{'name':name},{'age':age},{'job_title':job_title},{'bio':bio} ]\n",
        "  return info\n",
        "\n",
        "your_info = details(name,age,job_title,bio)\n",
        "print(your_info)"
      ]
    },
    {
      "cell_type": "code",
      "source": [
        "print(your_info[0]['name'])"
      ],
      "metadata": {
        "colab": {
          "base_uri": "https://localhost:8080/"
        },
        "id": "-PaCBijMcAZB",
        "outputId": "e737e757-ece9-4736-d3c7-f7c5422e7b63"
      },
      "execution_count": null,
      "outputs": [
        {
          "output_type": "stream",
          "name": "stdout",
          "text": [
            "Dom\n"
          ]
        }
      ]
    },
    {
      "cell_type": "code",
      "source": [
        "def maths(num_1,num_2,opperator):\n",
        "  if (opperator == '/'):\n",
        "    answer = num_1 / num_2\n",
        "    \n",
        "  if (opperator == '*'):\n",
        "    answer = num_1 * num_2\n",
        "    \n",
        "  if (opperator == '+'):\n",
        "    answer = num_1 + num_2\n",
        "\n",
        "  if (opperator == '-'):\n",
        "    answer = num_1 - num_2\n",
        "  return answer"
      ],
      "metadata": {
        "id": "wN8Gbn7igYd5"
      },
      "execution_count": null,
      "outputs": []
    },
    {
      "cell_type": "code",
      "source": [
        ""
      ],
      "metadata": {
        "id": "mfm3F2lGkjbf"
      },
      "execution_count": null,
      "outputs": []
    },
    {
      "cell_type": "code",
      "source": [
        "\n",
        "def under_three(houses):\n",
        "  for house in houses:\n",
        "    if house['distance'] <= 10:\n",
        "      roadName = house['road_name']\n",
        "      print(f'{roadName} is under 3')\n",
        "  return\n"
      ],
      "metadata": {
        "id": "kZWb-AN_kjmk"
      },
      "execution_count": null,
      "outputs": []
    },
    {
      "cell_type": "code",
      "source": [
        "houses = [{'road_name':'Westview','distance':3},{'road_name':'Eastview','distance':30},{'road_name':'Greatview','distance':6},{'road_name':'strangeview','distance':4}]\n",
        "under_three(houses)"
      ],
      "metadata": {
        "colab": {
          "base_uri": "https://localhost:8080/"
        },
        "id": "6WJhi3nqlUcD",
        "outputId": "0618c922-6475-4e1c-ab02-4597f5971b5b"
      },
      "execution_count": null,
      "outputs": [
        {
          "output_type": "stream",
          "name": "stdout",
          "text": [
            "Westview is under 3\n",
            "Greatview is under 3\n",
            "strangeview is under 3\n"
          ]
        }
      ]
    },
    {
      "cell_type": "code",
      "source": [
        "try:\n",
        "  user_weight = float(input('what is your weight in kilograms? '))\n",
        "  user_height = float(input('what is your height in meters? '))\n",
        "\n",
        "\n",
        "  def CalculateBMI(weight, height):\n",
        "    BMI = weight / (height**2)\n",
        "    return BMI\n",
        "\n",
        "\n",
        "  user_BMI = int(CalculateBMI(user_weight,user_height))\n",
        "  print(f'Your BMI is {user_BMI}')\n",
        "  print('Your BMI is '+ {user_BMI})\n",
        "\n",
        "\n",
        "\n",
        "except ValueError:\n",
        "  print('You\\'ve put in a string not a number')\n",
        "except:\n",
        "  print('Something has gone horrifically wrong')\n",
        "\n",
        "finally:\n",
        "  print('This is going to print regardless')"
      ],
      "metadata": {
        "colab": {
          "base_uri": "https://localhost:8080/"
        },
        "id": "MT26HoX7syFS",
        "outputId": "49ad4511-8e42-4035-921e-725cbdd8dc66"
      },
      "execution_count": null,
      "outputs": [
        {
          "output_type": "stream",
          "name": "stdout",
          "text": [
            "what is your weight in kilograms? 102\n",
            "what is your height in meters? 1.8\n",
            "Your BMI is 31\n",
            "Something has gone horrifically wrong\n",
            "This is going to print regardless\n"
          ]
        }
      ]
    },
    {
      "cell_type": "code",
      "source": [
        "postage = {\"id\":\"size_and_weight_guide\", \\\n",
        "           \"company\":\"royal_mail\", \\\n",
        "           \"options\":\"letters_and_parcels\", \\\n",
        "           \"format\":[[\"letter\",0.1,24,16.5,0.5], \\\n",
        "                     {\"Type\":\"large_letter\",\"weight\":0.75,\"length\":35.3,\"width\":25,\"depth\":2.5}, \\\n",
        "                     {\"type\":\"small_parcel\",\"weight\":2,\"length\":45,\"width\":35,\"depth\":16}, \\\n",
        "                     {\"type\":\"medium_parcel\",\"weight\":20,\"length\":61,\"width\":46,\"depth\":46} \\\n",
        "                     ] \\\n",
        "           }\n",
        "\n",
        "print(postage['format'][1]['Type'])"
      ],
      "metadata": {
        "colab": {
          "base_uri": "https://localhost:8080/"
        },
        "id": "wAdb8Yt-3-KV",
        "outputId": "2f46fa0d-47b8-4663-f07a-af261dda7219"
      },
      "execution_count": null,
      "outputs": [
        {
          "output_type": "stream",
          "name": "stdout",
          "text": [
            "large_letter\n"
          ]
        }
      ]
    },
    {
      "cell_type": "code",
      "source": [
        "class band_member:\n",
        "    def __init__(self, name, instrument):\n",
        "        self.name = name\n",
        "        self.instrument = instrument\n",
        "\n",
        "    def display_instrument(self):\n",
        "        print(f'hello my name is {self.name} and I play the {self.instrument}')\n",
        "\n",
        "\n",
        "class Guitarist(band_member):\n",
        "    def __init__(self, name, instrument, guitar_type):\n",
        "        self.guitar_type = guitar_type\n",
        "        self.name = name\n",
        "        self.instrument = instrument\n",
        "\n",
        "    def guitar(self):\n",
        "        print(f'the guitar I play is a {self.guitar_type}')\n",
        "\n",
        "\n",
        "person_1 = band_member('Dom', 'Drums')\n",
        "person_2 = Guitarist('Diana', 'guitar', 'Washburn')\n",
        "\n",
        "person_1.display_instrument()\n",
        "person_2.display_instrument()\n",
        "person_2.guitar()"
      ],
      "metadata": {
        "colab": {
          "base_uri": "https://localhost:8080/"
        },
        "id": "c8g7ZSFmr8ni",
        "outputId": "d89f85f9-cc5a-40cb-8e4c-e2c090ca6691"
      },
      "execution_count": null,
      "outputs": [
        {
          "output_type": "stream",
          "name": "stdout",
          "text": [
            "hello my name is Dom and I play the Drums\n",
            "hello my name is Diana and I play the guitar\n",
            "the guitar I play is a Washburn\n"
          ]
        }
      ]
    },
    {
      "cell_type": "code",
      "source": [
        "import random\n",
        "\n",
        "songs = list(['It\\'s Not Unusual','Sex Bomb','What\\'s New Pussycat','She\\'s a Lady','Delilah','Burnin\\' Domn the House','Mumma Told Me Not To Come','Thunderball','If He Should Ever Leave You','You Can Leave Your Hat On','Kiss'])\n",
        "\n",
        "class SongShuffler:\n",
        "\n",
        "  def __init__(self):\n",
        "     self.items = list()\n",
        "  def add_item(self, item):\n",
        "    # if it's not in the list add it in\n",
        "    if not(item in self.items):\n",
        "      self.items.insert(0, item)\n",
        "\n",
        "    else:\n",
        "      # remove current existance of value\n",
        "      self.items.remove(item)\n",
        "      # add it in at the begining of the list\n",
        "      self.items.insert(0, item)\n",
        "  \n",
        "  def play_item(self,item):\n",
        "    if (item in self.items):\n",
        "      print(f'now playing {item}')\n",
        "      self.items.remove(item)\n",
        "      self.items.insert(random.randint(5,9),item)\n",
        "\n"
      ],
      "metadata": {
        "id": "Aja4Vr_T1321"
      },
      "execution_count": null,
      "outputs": []
    },
    {
      "cell_type": "code",
      "source": [
        "\n",
        "\n",
        "Playlist = SongShuffler()\n",
        "\n",
        "random.shuffle(songs)\n",
        "\n",
        "for i in range(len(songs)):\n",
        "  song = songs[i]\n",
        "  Playlist.add_item(song)\n",
        "\n",
        "print(Playlist.items)\n"
      ],
      "metadata": {
        "colab": {
          "base_uri": "https://localhost:8080/"
        },
        "id": "82O5giNW4HAX",
        "outputId": "d4f1db8b-0b4c-48fa-d1e2-ad98ea64d918"
      },
      "execution_count": null,
      "outputs": [
        {
          "output_type": "stream",
          "name": "stdout",
          "text": [
            "['Delilah', 'You Can Leave Your Hat On', 'If He Should Ever Leave You', \"Burnin' Domn the House\", \"It's Not Unusual\", 'Thunderball', 'Sex Bomb', 'Mumma Told Me Not To Come', \"What's New Pussycat\", \"She's a Lady\", 'Kiss']\n"
          ]
        }
      ]
    },
    {
      "cell_type": "code",
      "source": [
        "Playlist.play_item('Sex Bomb')\n",
        "print(f'Here\\'s whats still to come {Playlist.items}')"
      ],
      "metadata": {
        "colab": {
          "base_uri": "https://localhost:8080/"
        },
        "id": "dNLnGELj760w",
        "outputId": "45843e36-b837-48be-d59d-7c5d69e824b3"
      },
      "execution_count": null,
      "outputs": [
        {
          "output_type": "stream",
          "name": "stdout",
          "text": [
            "now playing Sex Bomb\n",
            "Here's whats still to come ['Delilah', 'You Can Leave Your Hat On', 'If He Should Ever Leave You', \"Burnin' Domn the House\", \"It's Not Unusual\", 'Thunderball', 'Mumma Told Me Not To Come', 'Sex Bomb', \"What's New Pussycat\", \"She's a Lady\", 'Kiss']\n"
          ]
        }
      ]
    },
    {
      "cell_type": "code",
      "source": [
        "word = input('Type in a word or sentence: ')\n",
        "\n",
        "def isPalindrome(word_input):\n",
        "  withoutSpaces = word_input.replace(' ','')\n",
        "  lower_case = withoutSpaces.lower()\n",
        "  reversed = []\n",
        "  length = range(len(lower_case))\n",
        "\n",
        "  for i in length:\n",
        "    reversed.insert(0,lower_case[i])\n",
        "\n",
        "  reversed = ''.join(reversed)\n",
        "\n",
        "  if lower_case == reversed:\n",
        "    print(f'{word_input} is a Palidrome')\n",
        "  else:\n",
        "    print(f'{word_input} is NOT a Palidrome')\n",
        "\n",
        "isPalindrome(word)"
      ],
      "metadata": {
        "colab": {
          "base_uri": "https://localhost:8080/"
        },
        "id": "NmFj5PS6L0-J",
        "outputId": "ff13c3e2-daad-47f2-dfd6-a15f7d9e5e75"
      },
      "execution_count": null,
      "outputs": [
        {
          "output_type": "stream",
          "name": "stdout",
          "text": [
            "Type in a word or sentence: sdfetrsdgfsdf\n",
            "sdfetrsdgfsdf is NOT a Palidrome\n"
          ]
        }
      ]
    },
    {
      "cell_type": "code",
      "source": [
        ""
      ],
      "metadata": {
        "id": "9CCk1AVaP-Nx"
      },
      "execution_count": null,
      "outputs": []
    }
  ]
}