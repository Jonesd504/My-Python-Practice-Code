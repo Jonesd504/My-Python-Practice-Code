{
  "nbformat": 4,
  "nbformat_minor": 0,
  "metadata": {
    "colab": {
      "name": "working_with_files.ipynb",
      "provenance": [],
      "authorship_tag": "ABX9TyNt8K1y1IfiqiFt0u7ZYP3p",
      "include_colab_link": true
    },
    "kernelspec": {
      "name": "python3",
      "display_name": "Python 3"
    },
    "language_info": {
      "name": "python"
    }
  },
  "cells": [
    {
      "cell_type": "markdown",
      "metadata": {
        "id": "view-in-github",
        "colab_type": "text"
      },
      "source": [
        "<a href=\"https://colab.research.google.com/github/Jonesd504/MyPracticeCode/blob/main/working_with_files.ipynb\" target=\"_parent\"><img src=\"https://colab.research.google.com/assets/colab-badge.svg\" alt=\"Open In Colab\"/></a>"
      ]
    },
    {
      "cell_type": "code",
      "source": [
        "my_file = open('python_text_1.txt', 'w')\n",
        "my_file.write('This is my new file!\\n')\n",
        "my_file.close()"
      ],
      "metadata": {
        "id": "8aGcD7HqCciA"
      },
      "execution_count": null,
      "outputs": []
    },
    {
      "cell_type": "code",
      "source": [
        "read_file = open('python_text_1.txt', 'r')\n",
        "output = read_file.read()\n",
        "print(output)\n",
        "read_file.close()"
      ],
      "metadata": {
        "colab": {
          "base_uri": "https://localhost:8080/"
        },
        "id": "H_u7-Z-3Errp",
        "outputId": "d8cd1b23-d0a9-490f-c7c2-df5670a3b789"
      },
      "execution_count": null,
      "outputs": [
        {
          "output_type": "stream",
          "name": "stdout",
          "text": [
            "This is my new file!\n",
            "\n"
          ]
        }
      ]
    },
    {
      "cell_type": "code",
      "source": [
        "write_file = open('python_text_1.txt', 'a')\n",
        "write_file.write('second line \\n')\n",
        "write_file.write('third line \\n')\n",
        "write_file.close()\n",
        "read_file = open('python_text_1.txt', 'r')\n",
        "output = read_file.read()\n",
        "print(output)\n",
        "read_file.close()"
      ],
      "metadata": {
        "colab": {
          "base_uri": "https://localhost:8080/"
        },
        "id": "awSRDG4GFMoB",
        "outputId": "332f99ff-ea4e-4a1c-9e8f-085e786ae1fa"
      },
      "execution_count": null,
      "outputs": [
        {
          "output_type": "stream",
          "name": "stdout",
          "text": [
            "This is my new file!\n",
            "second line \n",
            "third line \n",
            "second line \n",
            "third line \n",
            "second line \n",
            "third line \n",
            "\n"
          ]
        }
      ]
    },
    {
      "cell_type": "code",
      "source": [
        "try:\n",
        "  myage = int(input('Enter your age: '))\n",
        "except:\n",
        "  print('What are you typing!?!? That\\'s not number')\n",
        "else:\n",
        "  print('That\\'s an awesome age')\n",
        "finally:\n",
        "  print('It was good talking to you :)')"
      ],
      "metadata": {
        "colab": {
          "base_uri": "https://localhost:8080/"
        },
        "id": "1IzCP1_5JbCR",
        "outputId": "9d35e4e7-c928-46da-867a-f3d42c60ae73"
      },
      "execution_count": null,
      "outputs": [
        {
          "output_type": "stream",
          "name": "stdout",
          "text": [
            "Enter your age: ghfgh\n",
            "What are you typing!?!? That's not number\n",
            "It was good talking to you :)\n",
            "\n"
          ]
        }
      ]
    }
  ]
}