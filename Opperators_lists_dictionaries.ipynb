{
  "nbformat": 4,
  "nbformat_minor": 0,
  "metadata": {
    "colab": {
      "name": "Opperators-lists-dictionaries",
      "provenance": [],
      "collapsed_sections": [],
      "include_colab_link": true
    },
    "kernelspec": {
      "name": "python3",
      "display_name": "Python 3"
    },
    "language_info": {
      "name": "python"
    }
  },
  "cells": [
    {
      "cell_type": "markdown",
      "metadata": {
        "id": "view-in-github",
        "colab_type": "text"
      },
      "source": [
        "<a href=\"https://colab.research.google.com/github/Jonesd504/MyPracticeCode/blob/main/Opperators_lists_dictionaries.ipynb\" target=\"_parent\"><img src=\"https://colab.research.google.com/assets/colab-badge.svg\" alt=\"Open In Colab\"/></a>"
      ]
    },
    {
      "cell_type": "code",
      "execution_count": null,
      "metadata": {
        "colab": {
          "base_uri": "https://localhost:8080/"
        },
        "id": "4MRkbL7HeNbC",
        "outputId": "41cf5021-528e-4379-9c27-65521b0ced7d"
      },
      "outputs": [
        {
          "output_type": "stream",
          "name": "stdout",
          "text": [
            "open 9 - 12\n"
          ]
        }
      ],
      "source": [
        "day = 'Saturday'\n",
        "\n",
        "if day == 'Sunday' or day == 'Monday':\n",
        "  print('closed')\n",
        "elif day == 'Saturday':\n",
        "  print('open 9-12')\n",
        "else:\n",
        "  print('open 9-5')"
      ]
    },
    {
      "cell_type": "code",
      "source": [
        "height = int(input('How many centermeters tall are you? '))\n",
        "\n",
        "if height >= 117:\n",
        "  response = ('You can go on the big dipper and all the other rides')\n",
        "elif height >= 90:\n",
        "  response = ('You can go on some of the other rides')\n",
        "else:\n",
        "  response = ('You are to short to go on the rides')\n",
        "print(response)"
      ],
      "metadata": {
        "colab": {
          "base_uri": "https://localhost:8080/"
        },
        "id": "9a-92E9UiOJn",
        "outputId": "626c076e-bdfe-4174-cb4d-73a98466f93d"
      },
      "execution_count": null,
      "outputs": [
        {
          "output_type": "stream",
          "name": "stdout",
          "text": [
            "How many centermeters tall are you? 95\n",
            "You can go on some of the other rides\n"
          ]
        }
      ]
    },
    {
      "cell_type": "code",
      "source": [
        "shoes = input('What shoes are you wearing? ').lower()\n",
        "if shoes == 'doc martins':\n",
        "  print('you can go on this ride because of your height \\\n",
        "  and your shoes')"
      ],
      "metadata": {
        "colab": {
          "base_uri": "https://localhost:8080/"
        },
        "id": "ycsT-8_uolfl",
        "outputId": "7d356489-783f-46af-eb63-d67f1bd0104e"
      },
      "execution_count": null,
      "outputs": [
        {
          "output_type": "stream",
          "name": "stdout",
          "text": [
            "What shoes are you wearing? Doc Martins\n",
            "you can go on this ride because of your height   and your shoes\n"
          ]
        }
      ]
    },
    {
      "cell_type": "code",
      "source": [
        "petal_length = int(input('What size petal '))\n",
        "setosa = []\n",
        "versicolor = []\n",
        "for i in range(len(petal_length)):\n",
        "  if petal_length[i] < 2.5:\n",
        "    setosa.append(petal_length[i])\n",
        "  elif petal_length[i] <4.8:\n",
        "    versicolor.append(petal_length[i])"
      ],
      "metadata": {
        "id": "GBLeXLXdwlFe"
      },
      "execution_count": null,
      "outputs": []
    },
    {
      "cell_type": "code",
      "source": [
        "input_list = [{'michelle':'E','ufti':'PE'},{'michelle':'P','ufti':'PE'},{'michelle':'PE','ufti':'PE'},{'michelle':'P','ufti':'P'}]\n",
        "star = [] \n",
        "for i in input_list:\n",
        "  \n",
        "  michelle = i['michelle']\n",
        "  ufti = i['ufti']\n",
        "\n",
        "  if michelle == 'E' and  ufti == 'PE':        \n",
        "    star.append('HII') \n",
        "  elif michelle == 'P' and ufti == 'PE':        \n",
        "    star.append('MYSO')     \n",
        "  elif michelle == 'PE' and ufti == 'PE':        \n",
        "    star.append('PN')        \n",
        "  elif michelle == 'P' and ufti == 'P':        \n",
        "    star.append('Star') \n",
        "  else:    \n",
        "    print(\"That's an alien!\")     \n",
        "  print(star)"
      ],
      "metadata": {
        "colab": {
          "base_uri": "https://localhost:8080/"
        },
        "id": "zCKTVqdrxhDq",
        "outputId": "58e50192-9f2a-4d68-b0c3-8bdd51bb77d9"
      },
      "execution_count": null,
      "outputs": [
        {
          "output_type": "stream",
          "name": "stdout",
          "text": [
            "['HII']\n",
            "['HII', 'MYSO']\n",
            "['HII', 'MYSO', 'PN']\n",
            "['HII', 'MYSO', 'PN', 'Star']\n"
          ]
        }
      ]
    },
    {
      "cell_type": "code",
      "source": [
        "basket=[['eggs','cheese', 'bread'],['milk','eggs','chicken'],['ham','cheese','bread'],['eggs','cheese', 'bread'],['ham','cheese','bread']]"
      ],
      "metadata": {
        "id": "NjSuWRXaMAHR"
      },
      "execution_count": null,
      "outputs": []
    },
    {
      "cell_type": "code",
      "source": [
        "basket=[['eggs','cheese', 'bread'],['milk','eggs','chicken'],['ham','cheese','bread'],['eggs','cheese', 'bread'],['ham','cheese','bread']]\n",
        "for items in basket:\n",
        "  print('The first item in this basket is ')\n",
        "  print(item[0])\n",
        "  print('This basket has the following items: ')\n",
        "  for item in items:\n",
        "    print(item)"
      ],
      "metadata": {
        "colab": {
          "base_uri": "https://localhost:8080/"
        },
        "id": "lHYc3IRnOvMV",
        "outputId": "1b6680cc-bf17-42fc-fc9a-e201519f0f42"
      },
      "execution_count": null,
      "outputs": [
        {
          "output_type": "stream",
          "name": "stdout",
          "text": [
            "This basket has the following items: \n",
            "eggs\n",
            "cheese\n",
            "bread\n",
            "This basket has the following items: \n",
            "milk\n",
            "eggs\n",
            "chicken\n",
            "This basket has the following items: \n",
            "ham\n",
            "cheese\n",
            "bread\n",
            "This basket has the following items: \n",
            "eggs\n",
            "cheese\n",
            "bread\n",
            "This basket has the following items: \n",
            "ham\n",
            "cheese\n",
            "bread\n"
          ]
        }
      ]
    },
    {
      "cell_type": "code",
      "source": [
        "post=[[7,5,8],[10,10,1.5],[20,15,0.5],[3,3,3],[9,6,0.7]]\n",
        "\n",
        "for item in post:\n",
        "  largest_dimension = max(item)\n",
        "  if largest_dimension <= 0.5:\n",
        "    print(item, 'small letter')\n",
        "\n",
        "  elif largest_dimension >= 0.5 and item[2] <= 2.5:\n",
        "    print(item, 'large letter')\n",
        "\n",
        "  elif largest_dimension >= 2.5:\n",
        "    print(item, 'parcel')"
      ],
      "metadata": {
        "colab": {
          "base_uri": "https://localhost:8080/"
        },
        "id": "e2DYMNvqP_AG",
        "outputId": "a6a010a1-102d-4147-be09-ed47307eb4df"
      },
      "execution_count": null,
      "outputs": [
        {
          "output_type": "stream",
          "name": "stdout",
          "text": [
            "[7, 5, 8] parcel\n",
            "[10, 10, 1.5] large letter\n",
            "[20, 15, 0.5] large letter\n",
            "[3, 3, 3] parcel\n",
            "[9, 6, 0.7] large letter\n"
          ]
        }
      ]
    },
    {
      "cell_type": "code",
      "source": [
        "s = 10\n",
        "\n",
        "while s <= 15:\n",
        "  print(s)\n",
        "  s += 1"
      ],
      "metadata": {
        "colab": {
          "base_uri": "https://localhost:8080/"
        },
        "id": "D2xkEthoUNvH",
        "outputId": "77a669e1-7161-4977-9f12-d3dcd39915b4"
      },
      "execution_count": null,
      "outputs": [
        {
          "output_type": "stream",
          "name": "stdout",
          "text": [
            "10\n",
            "11\n",
            "12\n",
            "13\n",
            "14\n",
            "15\n"
          ]
        }
      ]
    },
    {
      "cell_type": "code",
      "source": [
        "alpha = 'abcdefghijklmnopqrstuvwxyzyxwvutsrqponmlkjihgfedcba'\n",
        "\n",
        "while alpha[0] != 'z':\n",
        "  alpha = alpha[1:]\n",
        "  print(alpha)\n",
        "\n",
        "#i = -1\n",
        "#while alpha[-1] != 'z':\n",
        "  \n",
        "#  alpha = alpha+alpha[-2]\n",
        "#  i = i * i\n",
        "#  print(alpha)\n",
        "\n",
        "else: \n",
        "  print('Done!')"
      ],
      "metadata": {
        "colab": {
          "base_uri": "https://localhost:8080/"
        },
        "id": "3Nv-DCCBUuXd",
        "outputId": "3b5ad4f6-a147-4ea2-ef86-d60377c38b74"
      },
      "execution_count": null,
      "outputs": [
        {
          "output_type": "stream",
          "name": "stdout",
          "text": [
            "bcdefghijklmnopqrstuvwxyzyxwvutsrqponmlkjihgfedcba\n",
            "cdefghijklmnopqrstuvwxyzyxwvutsrqponmlkjihgfedcba\n",
            "defghijklmnopqrstuvwxyzyxwvutsrqponmlkjihgfedcba\n",
            "efghijklmnopqrstuvwxyzyxwvutsrqponmlkjihgfedcba\n",
            "fghijklmnopqrstuvwxyzyxwvutsrqponmlkjihgfedcba\n",
            "ghijklmnopqrstuvwxyzyxwvutsrqponmlkjihgfedcba\n",
            "hijklmnopqrstuvwxyzyxwvutsrqponmlkjihgfedcba\n",
            "ijklmnopqrstuvwxyzyxwvutsrqponmlkjihgfedcba\n",
            "jklmnopqrstuvwxyzyxwvutsrqponmlkjihgfedcba\n",
            "klmnopqrstuvwxyzyxwvutsrqponmlkjihgfedcba\n",
            "lmnopqrstuvwxyzyxwvutsrqponmlkjihgfedcba\n",
            "mnopqrstuvwxyzyxwvutsrqponmlkjihgfedcba\n",
            "nopqrstuvwxyzyxwvutsrqponmlkjihgfedcba\n",
            "opqrstuvwxyzyxwvutsrqponmlkjihgfedcba\n",
            "pqrstuvwxyzyxwvutsrqponmlkjihgfedcba\n",
            "qrstuvwxyzyxwvutsrqponmlkjihgfedcba\n",
            "rstuvwxyzyxwvutsrqponmlkjihgfedcba\n",
            "stuvwxyzyxwvutsrqponmlkjihgfedcba\n",
            "tuvwxyzyxwvutsrqponmlkjihgfedcba\n",
            "uvwxyzyxwvutsrqponmlkjihgfedcba\n",
            "vwxyzyxwvutsrqponmlkjihgfedcba\n",
            "wxyzyxwvutsrqponmlkjihgfedcba\n",
            "xyzyxwvutsrqponmlkjihgfedcba\n",
            "yzyxwvutsrqponmlkjihgfedcba\n",
            "zyxwvutsrqponmlkjihgfedcba\n",
            "Done!\n"
          ]
        }
      ]
    },
    {
      "cell_type": "code",
      "source": [
        "print('Dom')"
      ],
      "metadata": {
        "colab": {
          "base_uri": "https://localhost:8080/"
        },
        "id": "ByobdZIFm33u",
        "outputId": "50dd5f60-6f3a-44d4-f023-b34b2368a19c"
      },
      "execution_count": null,
      "outputs": [
        {
          "output_type": "stream",
          "name": "stdout",
          "text": [
            "Dom\n"
          ]
        }
      ]
    }
  ]
}